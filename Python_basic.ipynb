{
  "nbformat": 4,
  "nbformat_minor": 0,
  "metadata": {
    "colab": {
      "provenance": []
    },
    "kernelspec": {
      "name": "python3",
      "display_name": "Python 3"
    },
    "language_info": {
      "name": "python"
    }
  },
  "cells": [
    {
      "cell_type": "code",
      "execution_count": null,
      "metadata": {
        "id": "gll4e3wMPguH"
      },
      "outputs": [],
      "source": []
    },
    {
      "cell_type": "markdown",
      "source": [],
      "metadata": {
        "id": "Dvty9K5gPhZ2"
      }
    },
    {
      "cell_type": "markdown",
      "source": [
        "#Python basic"
      ],
      "metadata": {
        "id": "3TGOxSebP0mk"
      }
    },
    {
      "cell_type": "markdown",
      "source": [
        "**Theoretical Question**"
      ],
      "metadata": {
        "id": "E_OQWB7MjRrc"
      }
    },
    {
      "cell_type": "markdown",
      "source": [
        "1.What is Python, and why is it popular?\n",
        "\n",
        "-> Python is a high-level interpreted programming language and its popular because its easy to learn, versatile, it has large community, extensive libraries, cross-platfrom, fast development and so on."
      ],
      "metadata": {
        "id": "x99SaNgujMDN"
      }
    },
    {
      "cell_type": "markdown",
      "source": [
        "    2.What is an interpreter in Python?\n",
        "    -> An interpreter is a program that read and execute python code line by line"
      ],
      "metadata": {
        "id": "M_S3rOffUxh3"
      }
    },
    {
      "cell_type": "markdown",
      "source": [
        " 3.What are pre-defined keywords in Python?\n",
        "\n",
        "  -> Pre-defined keywords are words that have a special meaning in the language and cannot be used as variable names, function names, or identifiers."
      ],
      "metadata": {
        "id": "IirVzGHyWRPB"
      }
    },
    {
      "cell_type": "markdown",
      "source": [
        "4.Can keywords be used as variable names?\n",
        "\n",
        " -> No because, keywords cannot be used as variable names. Such as keywords have predefined meanings in the language, using them as variable names would cause errors or unexpected behavior."
      ],
      "metadata": {
        "id": "tAMI7s8kW2Gp"
      }
    },
    {
      "cell_type": "markdown",
      "source": [
        " 5.What is mutability in Python?\n",
        "\n",
        "  ->mutability refers to whether an object's value can be changed after it has been created."
      ],
      "metadata": {
        "id": "x_qs_5XnXbtD"
      }
    },
    {
      "cell_type": "markdown",
      "source": [
        "6.Why are lists mutable, but tuples are immutable?\n",
        "\n",
        "  ->tuples are immutable, meaning that once a tuple is created, its elements cannot be changed, added, or removed. This immutability is a fundamental property of tuples and distinguishes them from lists, which are mutable and allow modifications after creation.it is possible to store mutable objects, such as lists or dictionaries, within a tuple. This might seem contradictory, but it is important to understand that the immutability of a tuple refers to the tuple itself, not the objects it contains. The tuple maintains references to the objects, and these references cannot be changed."
      ],
      "metadata": {
        "id": "jF2aZsilaMwS"
      }
    },
    {
      "cell_type": "markdown",
      "source": [
        "7.What is the difference between “==” and “is” operators in Python?\n",
        "\n",
        "->the is and == operators are used for comparison, but they serve different purposes and behave differently.\n",
        "\n",
        "== Operator\n",
        "\n",
        "The == operator is used to compare the values of two objects. It checks whether the values of the objects are equal.\n",
        "example:-\n",
        "a = 10\n",
        "b = 10\n",
        "print(a is b) # Output: True.\n",
        "\n",
        "is Operator\n",
        "\n",
        "The is operator is used to compare the identity of two objects. It checks whether the two variables point to the same object in memory.\n",
        "example:-\n",
        "a = 10\n",
        "b = 10\n",
        "print(a is b) # Output: True."
      ],
      "metadata": {
        "id": "vVBORFnyaU9i"
      }
    },
    {
      "cell_type": "markdown",
      "source": [
        "8.What are logical operators in Python?\n",
        "\n",
        " ->Logical operators in Python are used to perform logical operations on conditional statements."
      ],
      "metadata": {
        "id": "Zxq7JDbZb6wm"
      }
    },
    {
      "cell_type": "markdown",
      "source": [
        "9.What is type casting in Python?\n",
        "\n",
        " ->The process of changing the data type of a value/object."
      ],
      "metadata": {
        "id": "JM6Ij-E5cX4Z"
      }
    },
    {
      "cell_type": "markdown",
      "source": [
        "10.What is the difference between implicit and explicit type casting?\n",
        "\n",
        " ->1. Implicit Type Casting\n",
        "\n",
        "Definition: Python automatically converts one data type to another without user intervention.\n",
        "\n",
        "When it happens: It occurs when there is no risk of data loss or precision issues.\n",
        "\n",
        "Example:-\n",
        "num_int = 10\n",
        "num_float = 2.5\n",
        "result = num_int + num_float  # Implicit conversion\n",
        "print(result)  # Output: 12.5\n",
        "print(type(result))  # Output: <class 'float'>\n",
        "\n",
        "2. Explicit Type Casting\n",
        "\n",
        "Definition: The user manually converts one data type to another using type conversion functions.\n",
        "\n",
        "When it happens: It is used when the programmer explicitly wants to control the conversion, even if there’s a risk of data loss.\n",
        "\n",
        "examle:-\n",
        "num_str = \"123\"\n",
        "num_int = int(num_str)  # Explicit conversion\n",
        "print(num_int)  # Output: 123\n",
        "print(type(num_int))  # Output: <class 'int'>\n"
      ],
      "metadata": {
        "id": "6oWmUS3TdsXy"
      }
    },
    {
      "cell_type": "markdown",
      "source": [
        "11.What is the purpose of conditional statements in Python?\n",
        "\n",
        " ->Conditional statements in Python allow you to execute specific blocks of code based on certain conditions."
      ],
      "metadata": {
        "id": "Sm-7POwffQw2"
      }
    },
    {
      "cell_type": "markdown",
      "source": [
        "12.How does the elif statement work?\n",
        "\n",
        " ->The elif keyword in Python is used to check multiple conditions in an if-else statement.\n",
        "\n",
        " example:-\n",
        "\n",
        "a = 33\n",
        "b = 33\n",
        "\n",
        "if b > a:\n",
        "print(\"b is greater than a\")\n",
        "elif a == b:\n",
        "print(\"a and b are equal\")\n",
        "else:\n",
        "print(\"a is greater than b\")"
      ],
      "metadata": {
        "id": "AQ-BQdIEfroc"
      }
    },
    {
      "cell_type": "markdown",
      "source": [
        "13.What is the difference between for and while loops?\n",
        "\n",
        " ->For Loops\n",
        "\n",
        "A for loop is used when you know in advance how many times you want to execute the block of code.\n",
        "\n",
        "example:-\n",
        "\n",
        "for i in range(5):\n",
        "print(i)\n",
        "Output:\n",
        "\n",
        "0\n",
        "1\n",
        "2\n",
        "3\n",
        "4\n",
        "\n",
        "While Loops\n",
        "\n",
        "A while loop is used when you don’t know in advance how many times you want to execute the block of code.\n",
        "\n",
        "example:-\n",
        "\n",
        "count = 0\n",
        "while count < 5:\n",
        "print(count)\n",
        "count += 1\n",
        "Output:\n",
        "\n",
        "0\n",
        "1\n",
        "2\n",
        "3\n",
        "4"
      ],
      "metadata": {
        "id": "Fqp4OJSigM6Y"
      }
    },
    {
      "cell_type": "markdown",
      "source": [
        "14. Describe a scenario where a while loop is more suitable than a for loop.?\n",
        "\n",
        " ->A while loop is more suitable than a for loop when the number of iterations is not known in advance and the loop should continue running until a condition is met.\n",
        "\n",
        "Scenario: User Login Authentication\n",
        "Imagine a system where a user must enter the correct password to log in. Since the number of attempts is unknown, a while loop is ideal:\n",
        "\n",
        "ex:-\n",
        "\n",
        "correct_password = \"python123\"\n",
        "attempts = 0\n",
        "max_attempts = 3\n",
        "\n",
        "while attempts < max_attempts:\n",
        "    user_input = input(\"Enter your password: \")\n",
        "    if user_input == correct_password:\n",
        "        print(\"Access Granted!\")\n",
        "        break  # Exit the loop if correct password is entered\n",
        "    else:\n",
        "        print(\"Incorrect password. Try again.\")\n",
        "        attempts += 1\n",
        "\n",
        "if attempts == max_attempts:\n",
        "    print(\"Too many failed attempts. Account locked.\")\n",
        "\n",
        "\n"
      ],
      "metadata": {
        "id": "3RKA3453hEwh"
      }
    },
    {
      "cell_type": "markdown",
      "source": [
        "**Practical Question**"
      ],
      "metadata": {
        "id": "Cpq2FCYIiei1"
      }
    },
    {
      "cell_type": "markdown",
      "source": [
        "1. Write a Python program to print \"Hello, World!\""
      ],
      "metadata": {
        "id": "eqh8ClW7j_LA"
      }
    },
    {
      "cell_type": "code",
      "source": [
        "print(\"hello world\")"
      ],
      "metadata": {
        "colab": {
          "base_uri": "https://localhost:8080/"
        },
        "id": "nzElZWhxkMSQ",
        "outputId": "71e18476-174f-4037-aa71-283566d9ad7b"
      },
      "execution_count": 5,
      "outputs": [
        {
          "output_type": "stream",
          "name": "stdout",
          "text": [
            "hello world\n"
          ]
        }
      ]
    },
    {
      "cell_type": "markdown",
      "source": [
        "2.Write a Python program that displays your name and age."
      ],
      "metadata": {
        "id": "3mX4391ClCzA"
      }
    },
    {
      "cell_type": "code",
      "source": [
        "# This program displays your name and age\n",
        "\n",
        "name = \"prince\"\n",
        "age = 24\n",
        "\n",
        "print(\"Name:\", name)\n",
        "print(\"Age:\", age)\n"
      ],
      "metadata": {
        "colab": {
          "base_uri": "https://localhost:8080/"
        },
        "id": "Klm4-taXlM5x",
        "outputId": "f91fb266-91eb-4035-cf08-89ce73f3a913"
      },
      "execution_count": 10,
      "outputs": [
        {
          "output_type": "stream",
          "name": "stdout",
          "text": [
            "Name: prince\n",
            "Age: 24\n"
          ]
        }
      ]
    },
    {
      "cell_type": "markdown",
      "source": [
        "3. Write code to print all the pre-defined keywords in Python using the keyword library."
      ],
      "metadata": {
        "id": "sNRkcN1vmsMr"
      }
    },
    {
      "cell_type": "code",
      "source": [
        "import keyword\n",
        "\n",
        "# Print all predefined keywords in Python\n",
        "print(\"List of Python keywords:\")\n",
        "for kw in keyword.kwlist:\n",
        "    print(kw)\n"
      ],
      "metadata": {
        "colab": {
          "base_uri": "https://localhost:8080/"
        },
        "id": "aAuyV_gum5e7",
        "outputId": "3f8e1e73-ea75-4013-899e-8b26f959fd25"
      },
      "execution_count": 11,
      "outputs": [
        {
          "output_type": "stream",
          "name": "stdout",
          "text": [
            "List of Python keywords:\n",
            "False\n",
            "None\n",
            "True\n",
            "and\n",
            "as\n",
            "assert\n",
            "async\n",
            "await\n",
            "break\n",
            "class\n",
            "continue\n",
            "def\n",
            "del\n",
            "elif\n",
            "else\n",
            "except\n",
            "finally\n",
            "for\n",
            "from\n",
            "global\n",
            "if\n",
            "import\n",
            "in\n",
            "is\n",
            "lambda\n",
            "nonlocal\n",
            "not\n",
            "or\n",
            "pass\n",
            "raise\n",
            "return\n",
            "try\n",
            "while\n",
            "with\n",
            "yield\n"
          ]
        }
      ]
    },
    {
      "cell_type": "markdown",
      "source": [
        "4.Write a program that checks if a given word is a Python keyword."
      ],
      "metadata": {
        "id": "mq1QJbQFndc4"
      }
    },
    {
      "cell_type": "code",
      "source": [
        "import keyword\n",
        "\n",
        "def is_python_keyword(word):\n",
        "    if keyword.iskeyword(word):\n",
        "        return f\"'{word}' is a Python keyword.\"\n",
        "    else:\n",
        "        return f\"'{word}' is NOT a Python keyword.\"\n",
        "\n",
        "# Example usage\n",
        "word = input(\"Enter a word to check: \")\n",
        "print(is_python_keyword(word))\n"
      ],
      "metadata": {
        "colab": {
          "base_uri": "https://localhost:8080/"
        },
        "id": "6JFEVXCGnkC1",
        "outputId": "b23bdfbc-d185-4cc4-8b99-7e63459fbf36"
      },
      "execution_count": 13,
      "outputs": [
        {
          "output_type": "stream",
          "name": "stdout",
          "text": [
            "Enter a word to check: True\n",
            "'True' is a Python keyword.\n"
          ]
        }
      ]
    },
    {
      "cell_type": "markdown",
      "source": [
        "5.Create a list and tuple in Python, and demonstrate how attempting to change an element works differently\n",
        "for each."
      ],
      "metadata": {
        "id": "7f0gSmo_oILj"
      }
    },
    {
      "cell_type": "code",
      "source": [
        "# Create a list and a tuple\n",
        "my_list = [10, 20, 30]\n",
        "my_tuple = (10, 20, 30)\n",
        "\n",
        "# Modify an element in the list\n",
        "my_list[1] = 99\n",
        "print(\"Modified list:\", my_list)\n",
        "\n",
        "# Attempt to modify an element in the tuple\n",
        "try:\n",
        "    my_tuple[1] = 99\n",
        "except TypeError as e:\n",
        "    print(\"Error modifying tuple:\", e)\n",
        "\n"
      ],
      "metadata": {
        "colab": {
          "base_uri": "https://localhost:8080/"
        },
        "id": "0R8whrDiopVJ",
        "outputId": "02c20cc4-209a-40fe-f3d2-d0c290394fd9"
      },
      "execution_count": 14,
      "outputs": [
        {
          "output_type": "stream",
          "name": "stdout",
          "text": [
            "Modified list: [10, 99, 30]\n",
            "Error modifying tuple: 'tuple' object does not support item assignment\n"
          ]
        }
      ]
    },
    {
      "cell_type": "markdown",
      "source": [
        "6. Write a function to demonstrate the behavior of mutable and immutable arguments."
      ],
      "metadata": {
        "id": "0w3yCvNtpAyC"
      }
    },
    {
      "cell_type": "code",
      "source": [
        "def modify_arguments(immutable_arg, mutable_arg):\n",
        "    # Try modifying the immutable argument (e.g., an integer)\n",
        "    immutable_arg += 1\n",
        "    print(\"Inside function - immutable_arg:\", immutable_arg)\n",
        "\n",
        "    # Modify the mutable argument (e.g., a list)\n",
        "    mutable_arg.append(4)\n",
        "    print(\"Inside function - mutable_arg:\", mutable_arg)\n",
        "\n",
        "# Initial values\n",
        "x = 10                 # Immutable\n",
        "y = [1, 2, 3]          # Mutable\n",
        "\n",
        "# Call the function\n",
        "modify_arguments(x, y)\n",
        "\n",
        "# Check values after the function call\n",
        "print(\"Outside function - x:\", x)\n",
        "print(\"Outside function - y:\", y)"
      ],
      "metadata": {
        "colab": {
          "base_uri": "https://localhost:8080/"
        },
        "id": "M5eaBPbcpLcf",
        "outputId": "a0079ce7-07d5-4695-f0da-7f9abe21bbbb"
      },
      "execution_count": 16,
      "outputs": [
        {
          "output_type": "stream",
          "name": "stdout",
          "text": [
            "Inside function - immutable_arg: 11\n",
            "Inside function - mutable_arg: [1, 2, 3, 4]\n",
            "Outside function - x: 10\n",
            "Outside function - y: [1, 2, 3, 4]\n"
          ]
        }
      ]
    },
    {
      "cell_type": "markdown",
      "source": [
        "7. Write a program that performs basic arithmetic operations on two user-input numbers."
      ],
      "metadata": {
        "id": "ZxxzVlm4pa_j"
      }
    },
    {
      "cell_type": "code",
      "source": [
        "# Program: Basic Arithmetic Operations\n",
        "\n",
        "# Get input from the user\n",
        "num1 = float(input(\"Enter the first number: \"))\n",
        "num2 = float(input(\"Enter the second number: \"))\n",
        "\n",
        "# Perform arithmetic operations\n",
        "add = num1 + num2\n",
        "sub = num1 - num2\n",
        "mul = num1 * num2\n",
        "\n",
        "# Handle division safely\n",
        "if num2 != 0:\n",
        "    div = num1 / num2\n",
        "else:\n",
        "    div = \"Undefined (division by zero)\"\n",
        "\n",
        "# Display the results\n",
        "print(\"\\n--- Results ---\")\n",
        "print(f\"Addition:       {num1} + {num2} = {add}\")\n",
        "print(f\"Subtraction:    {num1} - {num2} = {sub}\")\n",
        "print(f\"Multiplication: {num1} * {num2} = {mul}\")\n",
        "print(f\"Division:       {num1} / {num2} = {div}\")\n"
      ],
      "metadata": {
        "colab": {
          "base_uri": "https://localhost:8080/"
        },
        "id": "4KvNiAc7pag_",
        "outputId": "0d16ade7-cd2a-40ae-959f-5055ca1f6fe0"
      },
      "execution_count": 17,
      "outputs": [
        {
          "output_type": "stream",
          "name": "stdout",
          "text": [
            "Enter the first number: 10\n",
            "Enter the second number: 5\n",
            "\n",
            "--- Results ---\n",
            "Addition:       10.0 + 5.0 = 15.0\n",
            "Subtraction:    10.0 - 5.0 = 5.0\n",
            "Multiplication: 10.0 * 5.0 = 50.0\n",
            "Division:       10.0 / 5.0 = 2.0\n"
          ]
        }
      ]
    },
    {
      "cell_type": "markdown",
      "source": [
        " 8.Write a program to demonstrate the use of logical operators."
      ],
      "metadata": {
        "id": "__hR0xZLp9BT"
      }
    },
    {
      "cell_type": "code",
      "source": [
        "a = True\n",
        "b = False\n",
        "\n",
        "# Logical AND\n",
        "print(\"Logical AND:\")\n",
        "print(f\"{a} and {b} = {a and b}\")  # Both must be True\n",
        "\n",
        "# Logical OR\n",
        "print(\"\\nLogical OR:\")\n",
        "print(f\"{a} or {b} = {a or b}\")  # At least one must be True\n",
        "\n",
        "# Logical NOT\n",
        "print(\"\\nLogical NOT:\")\n",
        "print(f\"not {a} = {not a}\")  # Negates the value\n",
        "print(f\"not {b} = {not b}\")  # Negates the value\n"
      ],
      "metadata": {
        "colab": {
          "base_uri": "https://localhost:8080/"
        },
        "id": "bRHVU_1gqWDU",
        "outputId": "8bb3b49f-4334-49fe-a36e-49b8fea7d788"
      },
      "execution_count": 19,
      "outputs": [
        {
          "output_type": "stream",
          "name": "stdout",
          "text": [
            "Logical AND:\n",
            "True and False = False\n",
            "\n",
            "Logical OR:\n",
            "True or False = True\n",
            "\n",
            "Logical NOT:\n",
            "not True = False\n",
            "not False = True\n"
          ]
        }
      ]
    },
    {
      "cell_type": "markdown",
      "source": [
        "9.Write a Python program to convert user input from string to integer, float, and boolean types."
      ],
      "metadata": {
        "id": "5gxCyHO6q9QC"
      }
    },
    {
      "cell_type": "code",
      "source": [
        "# Program to convert user input to integer, float, and boolean\n",
        "\n",
        "# Get user input as a string\n",
        "user_input = input(\"Enter a value: \")\n",
        "\n",
        "# Convert to integer\n",
        "try:\n",
        "    int_value = int(user_input)\n",
        "    print(f\"Integer conversion: {int_value}\")\n",
        "except ValueError:\n",
        "    print(\"Cannot convert to integer.\")\n",
        "\n",
        "# Convert to float\n",
        "try:\n",
        "    float_value = float(user_input)\n",
        "    print(f\"Float conversion: {float_value}\")\n",
        "except ValueError:\n",
        "    print(\"Cannot convert to float.\")\n",
        "\n",
        "# Convert to boolean\n",
        "# In Python, an empty string converts to False, anything else to True\n",
        "bool_value = bool(user_input)\n",
        "print(f\"Boolean conversion: {bool_value}\")\n"
      ],
      "metadata": {
        "colab": {
          "base_uri": "https://localhost:8080/"
        },
        "id": "SqZbD_lBq3D_",
        "outputId": "ca10dbea-500e-4936-c28c-4ac0c2e568d7"
      },
      "execution_count": 20,
      "outputs": [
        {
          "output_type": "stream",
          "name": "stdout",
          "text": [
            "Enter a value: 22\n",
            "Integer conversion: 22\n",
            "Float conversion: 22.0\n",
            "Boolean conversion: True\n"
          ]
        }
      ]
    },
    {
      "cell_type": "markdown",
      "source": [
        "10. Write code to demonstrate type casting with list elements."
      ],
      "metadata": {
        "id": "0d4OIjJYrYNZ"
      }
    },
    {
      "cell_type": "code",
      "source": [
        "# Original list with mixed types\n",
        "mixed_list = ['1', '2', '3', 4, 5.5, '6.7']\n",
        "\n",
        "# Type casting elements to integers (where possible)\n",
        "int_list = []\n",
        "for item in mixed_list:\n",
        "    try:\n",
        "        int_list.append(int(float(item)))  # Handles both strings and floats\n",
        "    except ValueError:\n",
        "        print(f\"Cannot convert '{item}' to an integer.\")\n",
        "\n",
        "print(\"Integer List:\", int_list)\n",
        "\n",
        "# Type casting elements to floats\n",
        "float_list = []\n",
        "for item in mixed_list:\n",
        "    try:\n",
        "        float_list.append(float(item))\n",
        "    except ValueError:\n",
        "        print(f\"Cannot convert '{item}' to a float.\")\n",
        "\n",
        "print(\"Float List:\", float_list)\n",
        "\n",
        "# Type casting elements to strings\n",
        "string_list = [str(item) for item in mixed_list]\n",
        "print(\"String List:\", string_list)\n"
      ],
      "metadata": {
        "colab": {
          "base_uri": "https://localhost:8080/"
        },
        "id": "Zp1RaO5yrqBx",
        "outputId": "e7d746fc-43f9-4364-b303-43047ce0a21b"
      },
      "execution_count": 22,
      "outputs": [
        {
          "output_type": "stream",
          "name": "stdout",
          "text": [
            "Integer List: [1, 2, 3, 4, 5, 6]\n",
            "Float List: [1.0, 2.0, 3.0, 4.0, 5.5, 6.7]\n",
            "String List: ['1', '2', '3', '4', '5.5', '6.7']\n"
          ]
        }
      ]
    },
    {
      "cell_type": "markdown",
      "source": [
        "11. Write a program that checks if a number is positive, negative, or zero."
      ],
      "metadata": {
        "id": "xdMFXKNQsA2J"
      }
    },
    {
      "cell_type": "code",
      "source": [
        "# Program to check if a number is positive, negative, or zero\n",
        "\n",
        "# Get user input\n",
        "num = float(input(\"Enter a number: \"))\n",
        "\n",
        "# Check if the number is positive, negative, or zero\n",
        "if num > 0:\n",
        "    print(\"The number is positive.\")\n",
        "elif num < 0:\n",
        "    print(\"The number is negative.\")\n",
        "else:\n",
        "    print(\"The number is zero.\")\n"
      ],
      "metadata": {
        "colab": {
          "base_uri": "https://localhost:8080/"
        },
        "id": "jWxXW3m6sPg_",
        "outputId": "8b882b4e-67cb-4c8a-f040-ed32daca975e"
      },
      "execution_count": 25,
      "outputs": [
        {
          "output_type": "stream",
          "name": "stdout",
          "text": [
            "Enter a number: 5\n",
            "The number is positive.\n"
          ]
        }
      ]
    },
    {
      "cell_type": "markdown",
      "source": [
        "12.Write a for loop to print numbers from 1 to 10."
      ],
      "metadata": {
        "id": "WuGnYgskssgc"
      }
    },
    {
      "cell_type": "code",
      "source": [
        "# Program to print numbers from 1 to 10 using a for loop\n",
        "\n",
        "for i in range(1, 11):\n",
        "    print(i)\n"
      ],
      "metadata": {
        "colab": {
          "base_uri": "https://localhost:8080/"
        },
        "id": "NuGvbnw7sprK",
        "outputId": "1e4d7232-70e7-4b73-d913-8cee3759c36c"
      },
      "execution_count": 26,
      "outputs": [
        {
          "output_type": "stream",
          "name": "stdout",
          "text": [
            "1\n",
            "2\n",
            "3\n",
            "4\n",
            "5\n",
            "6\n",
            "7\n",
            "8\n",
            "9\n",
            "10\n"
          ]
        }
      ]
    },
    {
      "cell_type": "markdown",
      "source": [
        "13.Write a Python program to find the sum of all even numbers between 1 and 50."
      ],
      "metadata": {
        "id": "5pf5JJx5s6uI"
      }
    },
    {
      "cell_type": "code",
      "source": [
        "# Program to find the sum of all even numbers between 1 and 50\n",
        "\n",
        "# Initialize sum variable\n",
        "sum_of_evens = 0\n",
        "\n",
        "# Loop through the range from 1 to 50\n",
        "for num in range(1, 51):\n",
        "    if num % 2 == 0:  # Check if the number is even\n",
        "        sum_of_evens += num\n",
        "\n",
        "# Print the result\n",
        "print(\"Sum of all even numbers between 1 and 50:\", sum_of_evens)\n"
      ],
      "metadata": {
        "colab": {
          "base_uri": "https://localhost:8080/"
        },
        "id": "ZDJesL8Bs5gj",
        "outputId": "c448cc4a-2494-481a-a359-b9937b820025"
      },
      "execution_count": 27,
      "outputs": [
        {
          "output_type": "stream",
          "name": "stdout",
          "text": [
            "Sum of all even numbers between 1 and 50: 650\n"
          ]
        }
      ]
    },
    {
      "cell_type": "markdown",
      "source": [
        "14.Write a program to reverse a string using a while loop."
      ],
      "metadata": {
        "id": "nV1FuVQHtIP5"
      }
    },
    {
      "cell_type": "code",
      "source": [
        "# Program to reverse a string using a while loop\n",
        "\n",
        "# Get user input\n",
        "input_string = input(\"Enter a string: \")\n",
        "\n",
        "# Initialize variables\n",
        "reversed_string = \"\"\n",
        "index = len(input_string) - 1\n",
        "\n",
        "# Reverse the string using a while loop\n",
        "while index >= 0:\n",
        "    reversed_string += input_string[index]\n",
        "    index -= 1\n",
        "\n",
        "# Print the reversed string\n",
        "print(\"Reversed string:\", reversed_string)\n"
      ],
      "metadata": {
        "colab": {
          "base_uri": "https://localhost:8080/"
        },
        "id": "jjKjqONwtFok",
        "outputId": "584adbcc-fdd4-4eb6-b540-23436639255e"
      },
      "execution_count": 28,
      "outputs": [
        {
          "output_type": "stream",
          "name": "stdout",
          "text": [
            "Enter a string: \"ajay\"\n",
            "Reversed string: \"yaja\"\n"
          ]
        }
      ]
    },
    {
      "cell_type": "markdown",
      "source": [
        "15.Write a Python program to calculate the factorial of a number provided by the user using a while loop."
      ],
      "metadata": {
        "id": "h9s8i8wttZ8m"
      }
    },
    {
      "cell_type": "code",
      "source": [
        "# Program to calculate the factorial of a number using a while loop\n",
        "\n",
        "# Get user input\n",
        "num = int(input(\"Enter a number: \"))\n",
        "\n",
        "# Initialize variables\n",
        "factorial = 1\n",
        "\n",
        "# Check if the number is non-negative\n",
        "if num < 0:\n",
        "    print(\"Factorial is not defined for negative numbers.\")\n",
        "else:\n",
        "    # Calculate factorial using a while loop\n",
        "    while num > 0:\n",
        "        factorial *= num  # Multiply the current factorial by the number\n",
        "        num -= 1           # Decrease the number by 1\n",
        "\n",
        "    # Print the result\n",
        "    print(\"Factorial is:\", factorial)\n"
      ],
      "metadata": {
        "colab": {
          "base_uri": "https://localhost:8080/"
        },
        "id": "Jceno0N8tUBg",
        "outputId": "b8c95a1c-86df-43da-9725-3b580b243dfa"
      },
      "execution_count": 29,
      "outputs": [
        {
          "output_type": "stream",
          "name": "stdout",
          "text": [
            "Enter a number: 2\n",
            "Factorial is: 2\n"
          ]
        }
      ]
    }
  ]
}